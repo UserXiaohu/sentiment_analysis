{
 "cells": [
  {
   "cell_type": "code",
   "execution_count": 1,
   "metadata": {},
   "outputs": [
    {
     "data": {
      "text/plain": [
       "'\\n    @Author: King\\n    @Date: 2019.03.17\\n    @Purpose: 预训练word2vec模型\\n    @Introduction:  关于word2vec模型的介绍见这篇{https://www.cnblogs.com/jiangxinyang/p/9332769.html}。我们使用gensim中的word2vec API来训练模型。\\n    @Link:https://github.com/jiangxinyang227/textClassifier/tree/master/word2vec\\n    @Reference: https://www.cnblogs.com/jiangxinyang/p/10207273.html\\n'"
      ]
     },
     "execution_count": 1,
     "metadata": {},
     "output_type": "execute_result"
    }
   ],
   "source": [
    "'''\n",
    "    @Author: King\n",
    "    @Date: 2019.03.17\n",
    "    @Purpose: 预训练word2vec模型\n",
    "    @Introduction:  关于word2vec模型的介绍见这篇{https://www.cnblogs.com/jiangxinyang/p/9332769.html}。我们使用gensim中的word2vec API来训练模型。\n",
    "    @Link:https://github.com/jiangxinyang227/textClassifier/tree/master/word2vec\n",
    "    @Reference: https://www.cnblogs.com/jiangxinyang/p/10207273.html\n",
    "'''"
   ]
  },
  {
   "cell_type": "code",
   "execution_count": 1,
   "metadata": {},
   "outputs": [
    {
     "name": "stderr",
     "output_type": "stream",
     "text": [
      "d:\\progrom\\python\\python\\python3\\lib\\site-packages\\gensim\\utils.py:1212: UserWarning: detected Windows; aliasing chunkize to chunkize_serial\n",
      "  warnings.warn(\"detected Windows; aliasing chunkize to chunkize_serial\")\n"
     ]
    }
   ],
   "source": [
    "import logging\n",
    "import gensim\n",
    "from gensim.models import word2vec"
   ]
  },
  {
   "cell_type": "code",
   "execution_count": 2,
   "metadata": {},
   "outputs": [
    {
     "name": "stdout",
     "output_type": "stream",
     "text": [
      "a[0:2]:[['商务', '大床', '房', '，', '房间', '很大', '，', '床有', '2m', '宽', '，', '整体', '感觉', '经济', '实惠', '不错', '!'], ['早餐', '太', '差', '，', '无论', '去', '多少', '人', '，', '那边', '也', '不加', '食品', '的', '。', '酒店', '应该', '重视', '一下', '这个', '问题', '了', '。', '房间', '本身', '很', '好', '。']]\n"
     ]
    }
   ],
   "source": [
    "sentences = word2vec.LineSentence(\"../data/ChnSentiCorp_cn_data/wordEmbdiing.txt\")\n",
    "a = list(sentences)\n",
    "len(a)\n",
    "print(\"a[0:2]:{0}\".format(a[0:2]))"
   ]
  },
  {
   "cell_type": "code",
   "execution_count": 3,
   "metadata": {},
   "outputs": [],
   "source": [
    "model = gensim.models.Word2Vec(sentences, size=200, sg=1, iter=8)  \n",
    "model.wv.save_word2vec_format(\"../data/ChnSentiCorp_cn_data/word2Vec_test\" + \".bin\", binary=True) "
   ]
  },
  {
   "cell_type": "code",
   "execution_count": null,
   "metadata": {},
   "outputs": [],
   "source": []
  }
 ],
 "metadata": {
  "kernelspec": {
   "display_name": "Python 3",
   "language": "python",
   "name": "python3"
  },
  "language_info": {
   "codemirror_mode": {
    "name": "ipython",
    "version": 3
   },
   "file_extension": ".py",
   "mimetype": "text/x-python",
   "name": "python",
   "nbconvert_exporter": "python",
   "pygments_lexer": "ipython3",
   "version": "3.6.3"
  }
 },
 "nbformat": 4,
 "nbformat_minor": 2
}
