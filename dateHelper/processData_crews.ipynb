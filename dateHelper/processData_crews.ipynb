{
 "cells": [
  {
   "cell_type": "code",
   "execution_count": null,
   "metadata": {},
   "outputs": [],
   "source": [
    "'''\n",
    "    @Author: King\n",
    "    @Date: 2019.03.17\n",
    "    @Purpose: 语料预处理\n",
    "    @Introduction: 使用pandas直接处理数据，建议使用apply方法，\n",
    "                    处理速度比较快，数据处理完之后将有标签和无标签的数据合并，并保存成txt文件。\n",
    "    @Link:https://github.com/jiangxinyang227/textClassifier/tree/master/dateHelper\n",
    "    @Reference: https://www.cnblogs.com/jiangxinyang/p/10207273.html\n",
    "'''"
   ]
  },
  {
   "cell_type": "code",
   "execution_count": 31,
   "metadata": {},
   "outputs": [],
   "source": [
    "import pandas as pd\n",
    "from bs4 import BeautifulSoup"
   ]
  },
  {
   "cell_type": "code",
   "execution_count": 32,
   "metadata": {},
   "outputs": [],
   "source": [
    "with open(\"../data/cnews_data/cnews.train_demo.txt\", \"r\", encoding= \"utf-8\") as f:\n",
    "    unlabeledTrain = [line.strip().split(\"\\t\") for line in f.readlines() if len(line.strip().split(\"\\t\")) == 2]\n",
    "    \n",
    "with open(\"../data/cnews_data/cnews.train_demo.txt\", \"r\", encoding= \"utf-8\") as f:\n",
    "    labeledTrain = [line.strip().split(\"\\t\") for line in f.readlines() if len(line.strip().split(\"\\t\")) == 2]"
   ]
  },
  {
   "cell_type": "code",
   "execution_count": 33,
   "metadata": {},
   "outputs": [],
   "source": [
    "unlabel = pd.DataFrame(unlabeledTrain[1: ], columns=['class','review'])\n",
    "label = pd.DataFrame(labeledTrain[1: ], columns=['class','review'])"
   ]
  },
  {
   "cell_type": "code",
   "execution_count": 34,
   "metadata": {},
   "outputs": [
    {
     "data": {
      "text/html": [
       "<div>\n",
       "<style>\n",
       "    .dataframe thead tr:only-child th {\n",
       "        text-align: right;\n",
       "    }\n",
       "\n",
       "    .dataframe thead th {\n",
       "        text-align: left;\n",
       "    }\n",
       "\n",
       "    .dataframe tbody tr th {\n",
       "        vertical-align: top;\n",
       "    }\n",
       "</style>\n",
       "<table border=\"1\" class=\"dataframe\">\n",
       "  <thead>\n",
       "    <tr style=\"text-align: right;\">\n",
       "      <th></th>\n",
       "      <th>class</th>\n",
       "      <th>review</th>\n",
       "    </tr>\n",
       "  </thead>\n",
       "  <tbody>\n",
       "    <tr>\n",
       "      <th>0</th>\n",
       "      <td>体育</td>\n",
       "      <td>1.7秒神之一击救马刺王朝于危难 这个新秀有点牛！新浪体育讯在刚刚结束的比赛中，回到主场的马...</td>\n",
       "    </tr>\n",
       "    <tr>\n",
       "      <th>1</th>\n",
       "      <td>体育</td>\n",
       "      <td>1人灭掘金！神般杜兰特！ 他想要分的时候没人能挡新浪体育讯在NBA的世界里，真的猛男，敢于直...</td>\n",
       "    </tr>\n",
       "    <tr>\n",
       "      <th>2</th>\n",
       "      <td>体育</td>\n",
       "      <td>韩国国奥20人名单：朴周永领衔 两世界杯国脚入选新浪体育讯据韩联社首尔9月17日电 韩国国奥...</td>\n",
       "    </tr>\n",
       "    <tr>\n",
       "      <th>3</th>\n",
       "      <td>体育</td>\n",
       "      <td>天才中锋崇拜王治郅 周琦：球员最终是靠实力说话2月14日从土耳其男篮邀请赛回到北京之后，周琦...</td>\n",
       "    </tr>\n",
       "    <tr>\n",
       "      <th>4</th>\n",
       "      <td>体育</td>\n",
       "      <td>22+11!生涯最亮光辉 波什苦等8年终破首轮处男身新浪体育讯迈阿密热火主场97-91击败费...</td>\n",
       "    </tr>\n",
       "  </tbody>\n",
       "</table>\n",
       "</div>"
      ],
      "text/plain": [
       "  class                                             review\n",
       "0    体育  1.7秒神之一击救马刺王朝于危难 这个新秀有点牛！新浪体育讯在刚刚结束的比赛中，回到主场的马...\n",
       "1    体育  1人灭掘金！神般杜兰特！ 他想要分的时候没人能挡新浪体育讯在NBA的世界里，真的猛男，敢于直...\n",
       "2    体育  韩国国奥20人名单：朴周永领衔 两世界杯国脚入选新浪体育讯据韩联社首尔9月17日电 韩国国奥...\n",
       "3    体育  天才中锋崇拜王治郅 周琦：球员最终是靠实力说话2月14日从土耳其男篮邀请赛回到北京之后，周琦...\n",
       "4    体育  22+11!生涯最亮光辉 波什苦等8年终破首轮处男身新浪体育讯迈阿密热火主场97-91击败费..."
      ]
     },
     "execution_count": 34,
     "metadata": {},
     "output_type": "execute_result"
    }
   ],
   "source": [
    "unlabel.head(5)"
   ]
  },
  {
   "cell_type": "code",
   "execution_count": 35,
   "metadata": {},
   "outputs": [
    {
     "data": {
      "text/html": [
       "<div>\n",
       "<style>\n",
       "    .dataframe thead tr:only-child th {\n",
       "        text-align: right;\n",
       "    }\n",
       "\n",
       "    .dataframe thead th {\n",
       "        text-align: left;\n",
       "    }\n",
       "\n",
       "    .dataframe tbody tr th {\n",
       "        vertical-align: top;\n",
       "    }\n",
       "</style>\n",
       "<table border=\"1\" class=\"dataframe\">\n",
       "  <thead>\n",
       "    <tr style=\"text-align: right;\">\n",
       "      <th></th>\n",
       "      <th>class</th>\n",
       "      <th>review</th>\n",
       "    </tr>\n",
       "  </thead>\n",
       "  <tbody>\n",
       "    <tr>\n",
       "      <th>0</th>\n",
       "      <td>体育</td>\n",
       "      <td>1.7秒神之一击救马刺王朝于危难 这个新秀有点牛！新浪体育讯在刚刚结束的比赛中，回到主场的马...</td>\n",
       "    </tr>\n",
       "    <tr>\n",
       "      <th>1</th>\n",
       "      <td>体育</td>\n",
       "      <td>1人灭掘金！神般杜兰特！ 他想要分的时候没人能挡新浪体育讯在NBA的世界里，真的猛男，敢于直...</td>\n",
       "    </tr>\n",
       "    <tr>\n",
       "      <th>2</th>\n",
       "      <td>体育</td>\n",
       "      <td>韩国国奥20人名单：朴周永领衔 两世界杯国脚入选新浪体育讯据韩联社首尔9月17日电 韩国国奥...</td>\n",
       "    </tr>\n",
       "    <tr>\n",
       "      <th>3</th>\n",
       "      <td>体育</td>\n",
       "      <td>天才中锋崇拜王治郅 周琦：球员最终是靠实力说话2月14日从土耳其男篮邀请赛回到北京之后，周琦...</td>\n",
       "    </tr>\n",
       "    <tr>\n",
       "      <th>4</th>\n",
       "      <td>体育</td>\n",
       "      <td>22+11!生涯最亮光辉 波什苦等8年终破首轮处男身新浪体育讯迈阿密热火主场97-91击败费...</td>\n",
       "    </tr>\n",
       "  </tbody>\n",
       "</table>\n",
       "</div>"
      ],
      "text/plain": [
       "  class                                             review\n",
       "0    体育  1.7秒神之一击救马刺王朝于危难 这个新秀有点牛！新浪体育讯在刚刚结束的比赛中，回到主场的马...\n",
       "1    体育  1人灭掘金！神般杜兰特！ 他想要分的时候没人能挡新浪体育讯在NBA的世界里，真的猛男，敢于直...\n",
       "2    体育  韩国国奥20人名单：朴周永领衔 两世界杯国脚入选新浪体育讯据韩联社首尔9月17日电 韩国国奥...\n",
       "3    体育  天才中锋崇拜王治郅 周琦：球员最终是靠实力说话2月14日从土耳其男篮邀请赛回到北京之后，周琦...\n",
       "4    体育  22+11!生涯最亮光辉 波什苦等8年终破首轮处男身新浪体育讯迈阿密热火主场97-91击败费..."
      ]
     },
     "execution_count": 35,
     "metadata": {},
     "output_type": "execute_result"
    }
   ],
   "source": [
    "label.head(5)"
   ]
  },
  {
   "cell_type": "code",
   "execution_count": 36,
   "metadata": {},
   "outputs": [
    {
     "data": {
      "text/html": [
       "<div>\n",
       "<style>\n",
       "    .dataframe thead tr:only-child th {\n",
       "        text-align: right;\n",
       "    }\n",
       "\n",
       "    .dataframe thead th {\n",
       "        text-align: left;\n",
       "    }\n",
       "\n",
       "    .dataframe tbody tr th {\n",
       "        vertical-align: top;\n",
       "    }\n",
       "</style>\n",
       "<table border=\"1\" class=\"dataframe\">\n",
       "  <thead>\n",
       "    <tr style=\"text-align: right;\">\n",
       "      <th></th>\n",
       "      <th>class</th>\n",
       "      <th>review</th>\n",
       "      <th>review_cut_word</th>\n",
       "    </tr>\n",
       "  </thead>\n",
       "  <tbody>\n",
       "    <tr>\n",
       "      <th>0</th>\n",
       "      <td>体育</td>\n",
       "      <td>1.7秒神之一击救马刺王朝于危难 这个新秀有点牛！新浪体育讯在刚刚结束的比赛中，回到主场的马...</td>\n",
       "      <td>1.7 秒 神 之一 击救 马刺 王朝 于 危难   这个 新秀 有点 牛 ！ 新浪 体育讯...</td>\n",
       "    </tr>\n",
       "    <tr>\n",
       "      <th>1</th>\n",
       "      <td>体育</td>\n",
       "      <td>1人灭掘金！神般杜兰特！ 他想要分的时候没人能挡新浪体育讯在NBA的世界里，真的猛男，敢于直...</td>\n",
       "      <td>1 人灭 掘金 ！ 神般 杜兰特 ！   他 想要 分 的 时候 没人能 挡 新浪 体育讯 ...</td>\n",
       "    </tr>\n",
       "    <tr>\n",
       "      <th>2</th>\n",
       "      <td>体育</td>\n",
       "      <td>韩国国奥20人名单：朴周永领衔 两世界杯国脚入选新浪体育讯据韩联社首尔9月17日电 韩国国奥...</td>\n",
       "      <td>韩国 国奥 20 人 名单 ： 朴周 永 领衔   两 世界杯 国脚 入选 新浪 体育讯 据...</td>\n",
       "    </tr>\n",
       "    <tr>\n",
       "      <th>3</th>\n",
       "      <td>体育</td>\n",
       "      <td>天才中锋崇拜王治郅 周琦：球员最终是靠实力说话2月14日从土耳其男篮邀请赛回到北京之后，周琦...</td>\n",
       "      <td>天才 中锋 崇拜 王治郅   周琦 ： 球员 最终 是 靠 实力 说话 2 月 14 日 从...</td>\n",
       "    </tr>\n",
       "    <tr>\n",
       "      <th>4</th>\n",
       "      <td>体育</td>\n",
       "      <td>22+11!生涯最亮光辉 波什苦等8年终破首轮处男身新浪体育讯迈阿密热火主场97-91击败费...</td>\n",
       "      <td>22 + 11 ! 生涯 最 亮 光辉   波什苦 等 8 年终 破 首轮 处 男身 新浪 ...</td>\n",
       "    </tr>\n",
       "  </tbody>\n",
       "</table>\n",
       "</div>"
      ],
      "text/plain": [
       "  class                                             review  \\\n",
       "0    体育  1.7秒神之一击救马刺王朝于危难 这个新秀有点牛！新浪体育讯在刚刚结束的比赛中，回到主场的马...   \n",
       "1    体育  1人灭掘金！神般杜兰特！ 他想要分的时候没人能挡新浪体育讯在NBA的世界里，真的猛男，敢于直...   \n",
       "2    体育  韩国国奥20人名单：朴周永领衔 两世界杯国脚入选新浪体育讯据韩联社首尔9月17日电 韩国国奥...   \n",
       "3    体育  天才中锋崇拜王治郅 周琦：球员最终是靠实力说话2月14日从土耳其男篮邀请赛回到北京之后，周琦...   \n",
       "4    体育  22+11!生涯最亮光辉 波什苦等8年终破首轮处男身新浪体育讯迈阿密热火主场97-91击败费...   \n",
       "\n",
       "                                     review_cut_word  \n",
       "0  1.7 秒 神 之一 击救 马刺 王朝 于 危难   这个 新秀 有点 牛 ！ 新浪 体育讯...  \n",
       "1  1 人灭 掘金 ！ 神般 杜兰特 ！   他 想要 分 的 时候 没人能 挡 新浪 体育讯 ...  \n",
       "2  韩国 国奥 20 人 名单 ： 朴周 永 领衔   两 世界杯 国脚 入选 新浪 体育讯 据...  \n",
       "3  天才 中锋 崇拜 王治郅   周琦 ： 球员 最终 是 靠 实力 说话 2 月 14 日 从...  \n",
       "4  22 + 11 ! 生涯 最 亮 光辉   波什苦 等 8 年终 破 首轮 处 男身 新浪 ...  "
      ]
     },
     "execution_count": 36,
     "metadata": {},
     "output_type": "execute_result"
    }
   ],
   "source": [
    "import jieba\n",
    "def jieba_cut_word(subject):\n",
    "    seg_list = jieba.cut(subject, cut_all=False)\n",
    "    word_list = \" \".join(seg_list)\n",
    "    return word_list\n",
    "\n",
    "label['review_cut_word'] = label['review'].apply(jieba_cut_word)\n",
    "unlabel['review_cut_word'] = label['review'].apply(jieba_cut_word)\n",
    "label.head(5)\n",
    "unlabel.head(5)"
   ]
  },
  {
   "cell_type": "code",
   "execution_count": null,
   "metadata": {},
   "outputs": [],
   "source": []
  },
  {
   "cell_type": "code",
   "execution_count": null,
   "metadata": {},
   "outputs": [],
   "source": []
  },
  {
   "cell_type": "code",
   "execution_count": 37,
   "metadata": {},
   "outputs": [
    {
     "name": "stderr",
     "output_type": "stream",
     "text": [
      "d:\\progrom\\python\\python\\python3\\lib\\site-packages\\bs4\\__init__.py:181: UserWarning: No parser was explicitly specified, so I'm using the best available HTML parser for this system (\"lxml\"). This usually isn't a problem, but if you run this code on another system, or in a different virtual environment, it may use a different parser and behave differently.\n",
      "\n",
      "The code that caused this warning is on line 193 of the file d:\\progrom\\python\\python\\python3\\lib\\runpy.py. To get rid of this warning, change code that looks like this:\n",
      "\n",
      " BeautifulSoup(YOUR_MARKUP})\n",
      "\n",
      "to this:\n",
      "\n",
      " BeautifulSoup(YOUR_MARKUP, \"lxml\")\n",
      "\n",
      "  markup_type=markup_type))\n"
     ]
    }
   ],
   "source": [
    "# 因此数据预处理比较简单，只去除了各种标点符号，HTML标签，小写化等。\n",
    "def cleanReview(subject):\n",
    "    beau = BeautifulSoup(subject)\n",
    "    newSubject = beau.get_text()\n",
    "#     newSubject = newSubject.replace(\"\\\\\", \"\").replace(\"\\'\", \"\").replace('/', '').replace('\"', '').replace(',', '').replace('.', '').replace('?', '').replace('(', '').replace(')', '')\n",
    "    newSubject = newSubject.strip().split(\" \")\n",
    "    newSubject = [word.lower() for word in newSubject]\n",
    "    newSubject = \" \".join(newSubject)\n",
    "    \n",
    "    return newSubject\n",
    "    \n",
    "unlabel[\"review_cut_word\"] = unlabel[\"review_cut_word\"].apply(cleanReview)\n",
    "label[\"review_cut_word\"] = label[\"review_cut_word\"].apply(cleanReview)"
   ]
  },
  {
   "cell_type": "code",
   "execution_count": 38,
   "metadata": {},
   "outputs": [
    {
     "data": {
      "text/html": [
       "<div>\n",
       "<style>\n",
       "    .dataframe thead tr:only-child th {\n",
       "        text-align: right;\n",
       "    }\n",
       "\n",
       "    .dataframe thead th {\n",
       "        text-align: left;\n",
       "    }\n",
       "\n",
       "    .dataframe tbody tr th {\n",
       "        vertical-align: top;\n",
       "    }\n",
       "</style>\n",
       "<table border=\"1\" class=\"dataframe\">\n",
       "  <thead>\n",
       "    <tr style=\"text-align: right;\">\n",
       "      <th></th>\n",
       "      <th>class</th>\n",
       "      <th>review</th>\n",
       "      <th>review_cut_word</th>\n",
       "    </tr>\n",
       "  </thead>\n",
       "  <tbody>\n",
       "    <tr>\n",
       "      <th>0</th>\n",
       "      <td>体育</td>\n",
       "      <td>1.7秒神之一击救马刺王朝于危难 这个新秀有点牛！新浪体育讯在刚刚结束的比赛中，回到主场的马...</td>\n",
       "      <td>1.7 秒 神 之一 击救 马刺 王朝 于 危难   这个 新秀 有点 牛 ！ 新浪 体育讯...</td>\n",
       "    </tr>\n",
       "    <tr>\n",
       "      <th>1</th>\n",
       "      <td>体育</td>\n",
       "      <td>1人灭掘金！神般杜兰特！ 他想要分的时候没人能挡新浪体育讯在NBA的世界里，真的猛男，敢于直...</td>\n",
       "      <td>1 人灭 掘金 ！ 神般 杜兰特 ！   他 想要 分 的 时候 没人能 挡 新浪 体育讯 ...</td>\n",
       "    </tr>\n",
       "    <tr>\n",
       "      <th>2</th>\n",
       "      <td>体育</td>\n",
       "      <td>韩国国奥20人名单：朴周永领衔 两世界杯国脚入选新浪体育讯据韩联社首尔9月17日电 韩国国奥...</td>\n",
       "      <td>韩国 国奥 20 人 名单 ： 朴周 永 领衔   两 世界杯 国脚 入选 新浪 体育讯 据...</td>\n",
       "    </tr>\n",
       "    <tr>\n",
       "      <th>3</th>\n",
       "      <td>体育</td>\n",
       "      <td>天才中锋崇拜王治郅 周琦：球员最终是靠实力说话2月14日从土耳其男篮邀请赛回到北京之后，周琦...</td>\n",
       "      <td>天才 中锋 崇拜 王治郅   周琦 ： 球员 最终 是 靠 实力 说话 2 月 14 日 从...</td>\n",
       "    </tr>\n",
       "    <tr>\n",
       "      <th>4</th>\n",
       "      <td>体育</td>\n",
       "      <td>22+11!生涯最亮光辉 波什苦等8年终破首轮处男身新浪体育讯迈阿密热火主场97-91击败费...</td>\n",
       "      <td>22 + 11 ! 生涯 最 亮 光辉   波什苦 等 8 年终 破 首轮 处 男身 新浪 ...</td>\n",
       "    </tr>\n",
       "  </tbody>\n",
       "</table>\n",
       "</div>"
      ],
      "text/plain": [
       "  class                                             review  \\\n",
       "0    体育  1.7秒神之一击救马刺王朝于危难 这个新秀有点牛！新浪体育讯在刚刚结束的比赛中，回到主场的马...   \n",
       "1    体育  1人灭掘金！神般杜兰特！ 他想要分的时候没人能挡新浪体育讯在NBA的世界里，真的猛男，敢于直...   \n",
       "2    体育  韩国国奥20人名单：朴周永领衔 两世界杯国脚入选新浪体育讯据韩联社首尔9月17日电 韩国国奥...   \n",
       "3    体育  天才中锋崇拜王治郅 周琦：球员最终是靠实力说话2月14日从土耳其男篮邀请赛回到北京之后，周琦...   \n",
       "4    体育  22+11!生涯最亮光辉 波什苦等8年终破首轮处男身新浪体育讯迈阿密热火主场97-91击败费...   \n",
       "\n",
       "                                     review_cut_word  \n",
       "0  1.7 秒 神 之一 击救 马刺 王朝 于 危难   这个 新秀 有点 牛 ！ 新浪 体育讯...  \n",
       "1  1 人灭 掘金 ！ 神般 杜兰特 ！   他 想要 分 的 时候 没人能 挡 新浪 体育讯 ...  \n",
       "2  韩国 国奥 20 人 名单 ： 朴周 永 领衔   两 世界杯 国脚 入选 新浪 体育讯 据...  \n",
       "3  天才 中锋 崇拜 王治郅   周琦 ： 球员 最终 是 靠 实力 说话 2 月 14 日 从...  \n",
       "4  22 + 11 ! 生涯 最 亮 光辉   波什苦 等 8 年终 破 首轮 处 男身 新浪 ...  "
      ]
     },
     "execution_count": 38,
     "metadata": {},
     "output_type": "execute_result"
    }
   ],
   "source": [
    "label.head(5)"
   ]
  },
  {
   "cell_type": "code",
   "execution_count": 39,
   "metadata": {},
   "outputs": [],
   "source": [
    "# 将有标签的数据和无标签的数据合并\n",
    "newDf = pd.concat([unlabel[\"review_cut_word\"], label[\"review_cut_word\"]], axis=0) "
   ]
  },
  {
   "cell_type": "code",
   "execution_count": 40,
   "metadata": {},
   "outputs": [],
   "source": [
    "# 保存成txt文件\n",
    "newDf.to_csv(\"../data/cnews_data/wordEmbdiing.txt\", index=False,encoding='utf-8')"
   ]
  },
  {
   "cell_type": "code",
   "execution_count": 41,
   "metadata": {},
   "outputs": [
    {
     "name": "stdout",
     "output_type": "stream",
     "text": [
      "label_lists:['体育', '娱乐', '家居', '房产', '教育', '时尚', '时政', '游戏', '科技', '财经']\n"
     ]
    },
    {
     "data": {
      "text/html": [
       "<div>\n",
       "<style>\n",
       "    .dataframe thead tr:only-child th {\n",
       "        text-align: right;\n",
       "    }\n",
       "\n",
       "    .dataframe thead th {\n",
       "        text-align: left;\n",
       "    }\n",
       "\n",
       "    .dataframe tbody tr th {\n",
       "        vertical-align: top;\n",
       "    }\n",
       "</style>\n",
       "<table border=\"1\" class=\"dataframe\">\n",
       "  <thead>\n",
       "    <tr style=\"text-align: right;\">\n",
       "      <th></th>\n",
       "      <th>class</th>\n",
       "      <th>review</th>\n",
       "      <th>review_cut_word</th>\n",
       "    </tr>\n",
       "  </thead>\n",
       "  <tbody>\n",
       "    <tr>\n",
       "      <th>0</th>\n",
       "      <td>0</td>\n",
       "      <td>1.7秒神之一击救马刺王朝于危难 这个新秀有点牛！新浪体育讯在刚刚结束的比赛中，回到主场的马...</td>\n",
       "      <td>1.7 秒 神 之一 击救 马刺 王朝 于 危难   这个 新秀 有点 牛 ！ 新浪 体育讯...</td>\n",
       "    </tr>\n",
       "    <tr>\n",
       "      <th>1</th>\n",
       "      <td>0</td>\n",
       "      <td>1人灭掘金！神般杜兰特！ 他想要分的时候没人能挡新浪体育讯在NBA的世界里，真的猛男，敢于直...</td>\n",
       "      <td>1 人灭 掘金 ！ 神般 杜兰特 ！   他 想要 分 的 时候 没人能 挡 新浪 体育讯 ...</td>\n",
       "    </tr>\n",
       "    <tr>\n",
       "      <th>2</th>\n",
       "      <td>0</td>\n",
       "      <td>韩国国奥20人名单：朴周永领衔 两世界杯国脚入选新浪体育讯据韩联社首尔9月17日电 韩国国奥...</td>\n",
       "      <td>韩国 国奥 20 人 名单 ： 朴周 永 领衔   两 世界杯 国脚 入选 新浪 体育讯 据...</td>\n",
       "    </tr>\n",
       "    <tr>\n",
       "      <th>3</th>\n",
       "      <td>0</td>\n",
       "      <td>天才中锋崇拜王治郅 周琦：球员最终是靠实力说话2月14日从土耳其男篮邀请赛回到北京之后，周琦...</td>\n",
       "      <td>天才 中锋 崇拜 王治郅   周琦 ： 球员 最终 是 靠 实力 说话 2 月 14 日 从...</td>\n",
       "    </tr>\n",
       "    <tr>\n",
       "      <th>4</th>\n",
       "      <td>0</td>\n",
       "      <td>22+11!生涯最亮光辉 波什苦等8年终破首轮处男身新浪体育讯迈阿密热火主场97-91击败费...</td>\n",
       "      <td>22 + 11 ! 生涯 最 亮 光辉   波什苦 等 8 年终 破 首轮 处 男身 新浪 ...</td>\n",
       "    </tr>\n",
       "  </tbody>\n",
       "</table>\n",
       "</div>"
      ],
      "text/plain": [
       "   class                                             review  \\\n",
       "0      0  1.7秒神之一击救马刺王朝于危难 这个新秀有点牛！新浪体育讯在刚刚结束的比赛中，回到主场的马...   \n",
       "1      0  1人灭掘金！神般杜兰特！ 他想要分的时候没人能挡新浪体育讯在NBA的世界里，真的猛男，敢于直...   \n",
       "2      0  韩国国奥20人名单：朴周永领衔 两世界杯国脚入选新浪体育讯据韩联社首尔9月17日电 韩国国奥...   \n",
       "3      0  天才中锋崇拜王治郅 周琦：球员最终是靠实力说话2月14日从土耳其男篮邀请赛回到北京之后，周琦...   \n",
       "4      0  22+11!生涯最亮光辉 波什苦等8年终破首轮处男身新浪体育讯迈阿密热火主场97-91击败费...   \n",
       "\n",
       "                                     review_cut_word  \n",
       "0  1.7 秒 神 之一 击救 马刺 王朝 于 危难   这个 新秀 有点 牛 ！ 新浪 体育讯...  \n",
       "1  1 人灭 掘金 ！ 神般 杜兰特 ！   他 想要 分 的 时候 没人能 挡 新浪 体育讯 ...  \n",
       "2  韩国 国奥 20 人 名单 ： 朴周 永 领衔   两 世界杯 国脚 入选 新浪 体育讯 据...  \n",
       "3  天才 中锋 崇拜 王治郅   周琦 ： 球员 最终 是 靠 实力 说话 2 月 14 日 从...  \n",
       "4  22 + 11 ! 生涯 最 亮 光辉   波什苦 等 8 年终 破 首轮 处 男身 新浪 ...  "
      ]
     },
     "execution_count": 41,
     "metadata": {},
     "output_type": "execute_result"
    }
   ],
   "source": [
    "label_lists =[]\n",
    "def label_list(subject):\n",
    "    if subject not in label_lists:\n",
    "        label_lists.append(subject)\n",
    "    \n",
    "def label_to_class(subject):\n",
    "    return int(label_lists.index(subject))\n",
    "\n",
    "label[\"class\"].apply(label_list)\n",
    "label[\"class\"] = label[\"class\"].apply(label_to_class)\n",
    "label.head(5)\n",
    "print(\"label_lists:{0}\".format(label_lists))\n",
    "\n",
    "unlabel[\"class\"].apply(label_list)\n",
    "unlabel[\"class\"] = unlabel[\"class\"].apply(label_to_class)\n",
    "unlabel.head(5)\n"
   ]
  },
  {
   "cell_type": "code",
   "execution_count": 42,
   "metadata": {},
   "outputs": [],
   "source": [
    "newLabel = label[[\"class\", \"review_cut_word\"]]\n",
    "newLabel.to_csv(\"../data/cnews_data/labeledCharTrain.csv\",encoding='utf-8')\n",
    "newunLabel = unlabel[[\"class\", \"review_cut_word\"]]\n",
    "newunLabel.to_csv(\"../data/cnews_data/labeledCharTest.csv\",encoding='utf-8')"
   ]
  },
  {
   "cell_type": "code",
   "execution_count": null,
   "metadata": {},
   "outputs": [],
   "source": []
  }
 ],
 "metadata": {
  "kernelspec": {
   "display_name": "Python 3",
   "language": "python",
   "name": "python3"
  },
  "language_info": {
   "codemirror_mode": {
    "name": "ipython",
    "version": 3
   },
   "file_extension": ".py",
   "mimetype": "text/x-python",
   "name": "python",
   "nbconvert_exporter": "python",
   "pygments_lexer": "ipython3",
   "version": "3.6.3"
  }
 },
 "nbformat": 4,
 "nbformat_minor": 2
}
