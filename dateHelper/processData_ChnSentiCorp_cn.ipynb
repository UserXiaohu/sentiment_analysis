{
 "cells": [
  {
   "cell_type": "code",
   "execution_count": null,
   "metadata": {},
   "outputs": [],
   "source": [
    "'''\n",
    "    @Author: King\n",
    "    @Date: 2019.03.17\n",
    "    @Purpose: 语料预处理\n",
    "    @Introduction: 使用pandas直接处理数据，建议使用apply方法，\n",
    "                    处理速度比较快，数据处理完之后将有标签和无标签的数据合并，并保存成txt文件。\n",
    "    @Datasets: ChnSentiCorp 中文情感分析数据集，其目标是判断一段话的情感态度。\n",
    "    @Link:https://github.com/jiangxinyang227/textClassifier/tree/master/dateHelper\n",
    "    @Reference: https://www.cnblogs.com/jiangxinyang/p/10207273.html\n",
    "'''"
   ]
  },
  {
   "cell_type": "code",
   "execution_count": 1,
   "metadata": {},
   "outputs": [],
   "source": [
    "import pandas as pd\n",
    "from bs4 import BeautifulSoup"
   ]
  },
  {
   "cell_type": "markdown",
   "metadata": {},
   "source": [
    "## 数据加载模块"
   ]
  },
  {
   "cell_type": "code",
   "execution_count": 2,
   "metadata": {},
   "outputs": [],
   "source": [
    "# with open(\"../data/ChnSentiCorp_cn_data/ChnSentiCorp_htl_all.csv\", \"r\", encoding= \"utf-8\") as f:\n",
    "#     unlabeledTrain = [line.strip().split(\"\\t\") for line in f.readlines() if len(line.strip().split(\"\\t\")) == 2]\n",
    "    \n",
    "with open(\"../data/ChnSentiCorp_cn_data/ChnSentiCorp_htl_all.csv\", \"r\", encoding= \"utf-8\") as f:\n",
    "    labeledTrain = [line.strip().split(\",\") for line in f.readlines() if len(line.strip().split(\",\")) == 2]"
   ]
  },
  {
   "cell_type": "code",
   "execution_count": 3,
   "metadata": {},
   "outputs": [],
   "source": [
    "# unlabel = pd.DataFrame(unlabeledTrain[1: ], columns=['class','review'])\n",
    "label = pd.DataFrame(labeledTrain[1: ], columns=['label','review'])"
   ]
  },
  {
   "cell_type": "code",
   "execution_count": 4,
   "metadata": {},
   "outputs": [
    {
     "data": {
      "text/html": [
       "<div>\n",
       "<style scoped>\n",
       "    .dataframe tbody tr th:only-of-type {\n",
       "        vertical-align: middle;\n",
       "    }\n",
       "\n",
       "    .dataframe tbody tr th {\n",
       "        vertical-align: top;\n",
       "    }\n",
       "\n",
       "    .dataframe thead th {\n",
       "        text-align: right;\n",
       "    }\n",
       "</style>\n",
       "<table border=\"1\" class=\"dataframe\">\n",
       "  <thead>\n",
       "    <tr style=\"text-align: right;\">\n",
       "      <th></th>\n",
       "      <th>label</th>\n",
       "      <th>review</th>\n",
       "    </tr>\n",
       "  </thead>\n",
       "  <tbody>\n",
       "    <tr>\n",
       "      <th>0</th>\n",
       "      <td>1</td>\n",
       "      <td>商务大床房，房间很大，床有2M宽，整体感觉经济实惠不错!</td>\n",
       "    </tr>\n",
       "    <tr>\n",
       "      <th>1</th>\n",
       "      <td>1</td>\n",
       "      <td>早餐太差，无论去多少人，那边也不加食品的。酒店应该重视一下这个问题了。房间本身很好。</td>\n",
       "    </tr>\n",
       "    <tr>\n",
       "      <th>2</th>\n",
       "      <td>1</td>\n",
       "      <td>宾馆在小街道上，不大好找，但还好北京热心同胞很多~宾馆设施跟介绍的差不多，房间很小，确实挺小...</td>\n",
       "    </tr>\n",
       "    <tr>\n",
       "      <th>3</th>\n",
       "      <td>1</td>\n",
       "      <td>总的来说，这样的酒店配这样的价格还算可以，希望他赶快装修，给我的客人留些好的印象</td>\n",
       "    </tr>\n",
       "    <tr>\n",
       "      <th>4</th>\n",
       "      <td>1</td>\n",
       "      <td>价格比比较不错的酒店。这次免费升级了，感谢前台服务员。房子还好，地毯是新的，比上次的好些。早...</td>\n",
       "    </tr>\n",
       "  </tbody>\n",
       "</table>\n",
       "</div>"
      ],
      "text/plain": [
       "  label                                             review\n",
       "0     1                       商务大床房，房间很大，床有2M宽，整体感觉经济实惠不错!\n",
       "1     1         早餐太差，无论去多少人，那边也不加食品的。酒店应该重视一下这个问题了。房间本身很好。\n",
       "2     1  宾馆在小街道上，不大好找，但还好北京热心同胞很多~宾馆设施跟介绍的差不多，房间很小，确实挺小...\n",
       "3     1           总的来说，这样的酒店配这样的价格还算可以，希望他赶快装修，给我的客人留些好的印象\n",
       "4     1  价格比比较不错的酒店。这次免费升级了，感谢前台服务员。房子还好，地毯是新的，比上次的好些。早..."
      ]
     },
     "execution_count": 4,
     "metadata": {},
     "output_type": "execute_result"
    }
   ],
   "source": [
    "label.head(5)"
   ]
  },
  {
   "cell_type": "code",
   "execution_count": 5,
   "metadata": {},
   "outputs": [
    {
     "data": {
      "text/html": [
       "<div>\n",
       "<style scoped>\n",
       "    .dataframe tbody tr th:only-of-type {\n",
       "        vertical-align: middle;\n",
       "    }\n",
       "\n",
       "    .dataframe tbody tr th {\n",
       "        vertical-align: top;\n",
       "    }\n",
       "\n",
       "    .dataframe thead th {\n",
       "        text-align: right;\n",
       "    }\n",
       "</style>\n",
       "<table border=\"1\" class=\"dataframe\">\n",
       "  <thead>\n",
       "    <tr style=\"text-align: right;\">\n",
       "      <th></th>\n",
       "      <th>label</th>\n",
       "      <th>review</th>\n",
       "    </tr>\n",
       "  </thead>\n",
       "  <tbody>\n",
       "    <tr>\n",
       "      <th>0</th>\n",
       "      <td>1</td>\n",
       "      <td>商务大床房，房间很大，床有2M宽，整体感觉经济实惠不错!</td>\n",
       "    </tr>\n",
       "    <tr>\n",
       "      <th>1</th>\n",
       "      <td>1</td>\n",
       "      <td>早餐太差，无论去多少人，那边也不加食品的。酒店应该重视一下这个问题了。房间本身很好。</td>\n",
       "    </tr>\n",
       "    <tr>\n",
       "      <th>2</th>\n",
       "      <td>1</td>\n",
       "      <td>宾馆在小街道上，不大好找，但还好北京热心同胞很多~宾馆设施跟介绍的差不多，房间很小，确实挺小...</td>\n",
       "    </tr>\n",
       "    <tr>\n",
       "      <th>3</th>\n",
       "      <td>1</td>\n",
       "      <td>总的来说，这样的酒店配这样的价格还算可以，希望他赶快装修，给我的客人留些好的印象</td>\n",
       "    </tr>\n",
       "    <tr>\n",
       "      <th>4</th>\n",
       "      <td>1</td>\n",
       "      <td>价格比比较不错的酒店。这次免费升级了，感谢前台服务员。房子还好，地毯是新的，比上次的好些。早...</td>\n",
       "    </tr>\n",
       "  </tbody>\n",
       "</table>\n",
       "</div>"
      ],
      "text/plain": [
       "  label                                             review\n",
       "0     1                       商务大床房，房间很大，床有2M宽，整体感觉经济实惠不错!\n",
       "1     1         早餐太差，无论去多少人，那边也不加食品的。酒店应该重视一下这个问题了。房间本身很好。\n",
       "2     1  宾馆在小街道上，不大好找，但还好北京热心同胞很多~宾馆设施跟介绍的差不多，房间很小，确实挺小...\n",
       "3     1           总的来说，这样的酒店配这样的价格还算可以，希望他赶快装修，给我的客人留些好的印象\n",
       "4     1  价格比比较不错的酒店。这次免费升级了，感谢前台服务员。房子还好，地毯是新的，比上次的好些。早..."
      ]
     },
     "execution_count": 5,
     "metadata": {},
     "output_type": "execute_result"
    }
   ],
   "source": [
    "label.head(5)"
   ]
  },
  {
   "cell_type": "markdown",
   "metadata": {},
   "source": [
    "## 数据分词模块"
   ]
  },
  {
   "cell_type": "code",
   "execution_count": 6,
   "metadata": {},
   "outputs": [
    {
     "name": "stderr",
     "output_type": "stream",
     "text": [
      "Building prefix dict from the default dictionary ...\n",
      "Dumping model to file cache C:\\Users\\ASUS\\AppData\\Local\\Temp\\jieba.cache\n",
      "Loading model cost 1.385 seconds.\n",
      "Prefix dict has been built succesfully.\n"
     ]
    },
    {
     "data": {
      "text/html": [
       "<div>\n",
       "<style scoped>\n",
       "    .dataframe tbody tr th:only-of-type {\n",
       "        vertical-align: middle;\n",
       "    }\n",
       "\n",
       "    .dataframe tbody tr th {\n",
       "        vertical-align: top;\n",
       "    }\n",
       "\n",
       "    .dataframe thead th {\n",
       "        text-align: right;\n",
       "    }\n",
       "</style>\n",
       "<table border=\"1\" class=\"dataframe\">\n",
       "  <thead>\n",
       "    <tr style=\"text-align: right;\">\n",
       "      <th></th>\n",
       "      <th>label</th>\n",
       "      <th>review</th>\n",
       "      <th>review_cut_word</th>\n",
       "    </tr>\n",
       "  </thead>\n",
       "  <tbody>\n",
       "    <tr>\n",
       "      <th>0</th>\n",
       "      <td>1</td>\n",
       "      <td>商务大床房，房间很大，床有2M宽，整体感觉经济实惠不错!</td>\n",
       "      <td>商务 大床 房 ， 房间 很大 ， 床有 2M 宽 ， 整体 感觉 经济 实惠 不错 !</td>\n",
       "    </tr>\n",
       "    <tr>\n",
       "      <th>1</th>\n",
       "      <td>1</td>\n",
       "      <td>早餐太差，无论去多少人，那边也不加食品的。酒店应该重视一下这个问题了。房间本身很好。</td>\n",
       "      <td>早餐 太 差 ， 无论 去 多少 人 ， 那边 也 不加 食品 的 。 酒店 应该 重视 一...</td>\n",
       "    </tr>\n",
       "    <tr>\n",
       "      <th>2</th>\n",
       "      <td>1</td>\n",
       "      <td>宾馆在小街道上，不大好找，但还好北京热心同胞很多~宾馆设施跟介绍的差不多，房间很小，确实挺小...</td>\n",
       "      <td>宾馆 在 小 街道 上 ， 不大好 找 ， 但 还好 北京 热心 同胞 很多 ~ 宾馆 设施...</td>\n",
       "    </tr>\n",
       "    <tr>\n",
       "      <th>3</th>\n",
       "      <td>1</td>\n",
       "      <td>总的来说，这样的酒店配这样的价格还算可以，希望他赶快装修，给我的客人留些好的印象</td>\n",
       "      <td>总的来说 ， 这样 的 酒店 配 这样 的 价格 还 算 可以 ， 希望 他 赶快 装修 ，...</td>\n",
       "    </tr>\n",
       "    <tr>\n",
       "      <th>4</th>\n",
       "      <td>1</td>\n",
       "      <td>价格比比较不错的酒店。这次免费升级了，感谢前台服务员。房子还好，地毯是新的，比上次的好些。早...</td>\n",
       "      <td>价格比 比较 不错 的 酒店 。 这次 免费 升级 了 ， 感谢 前台 服务员 。 房子 还...</td>\n",
       "    </tr>\n",
       "  </tbody>\n",
       "</table>\n",
       "</div>"
      ],
      "text/plain": [
       "  label                                             review  \\\n",
       "0     1                       商务大床房，房间很大，床有2M宽，整体感觉经济实惠不错!   \n",
       "1     1         早餐太差，无论去多少人，那边也不加食品的。酒店应该重视一下这个问题了。房间本身很好。   \n",
       "2     1  宾馆在小街道上，不大好找，但还好北京热心同胞很多~宾馆设施跟介绍的差不多，房间很小，确实挺小...   \n",
       "3     1           总的来说，这样的酒店配这样的价格还算可以，希望他赶快装修，给我的客人留些好的印象   \n",
       "4     1  价格比比较不错的酒店。这次免费升级了，感谢前台服务员。房子还好，地毯是新的，比上次的好些。早...   \n",
       "\n",
       "                                     review_cut_word  \n",
       "0       商务 大床 房 ， 房间 很大 ， 床有 2M 宽 ， 整体 感觉 经济 实惠 不错 !  \n",
       "1  早餐 太 差 ， 无论 去 多少 人 ， 那边 也 不加 食品 的 。 酒店 应该 重视 一...  \n",
       "2  宾馆 在 小 街道 上 ， 不大好 找 ， 但 还好 北京 热心 同胞 很多 ~ 宾馆 设施...  \n",
       "3  总的来说 ， 这样 的 酒店 配 这样 的 价格 还 算 可以 ， 希望 他 赶快 装修 ，...  \n",
       "4  价格比 比较 不错 的 酒店 。 这次 免费 升级 了 ， 感谢 前台 服务员 。 房子 还...  "
      ]
     },
     "execution_count": 6,
     "metadata": {},
     "output_type": "execute_result"
    }
   ],
   "source": [
    "import jieba\n",
    "# 数据进行分词\n",
    "def jieba_cut_word(subject):\n",
    "    seg_list = jieba.cut(subject, cut_all=False)\n",
    "    word_list = \" \".join(seg_list)\n",
    "    return word_list\n",
    "\n",
    "label['review_cut_word'] = label['review'].apply(jieba_cut_word)\n",
    "# unlabel['review_cut_word'] = label['review'].apply(jieba_cut_word)\n",
    "label.head(5)\n",
    "# unlabel.head(5)"
   ]
  },
  {
   "cell_type": "markdown",
   "metadata": {},
   "source": [
    "## 数据清洗模块"
   ]
  },
  {
   "cell_type": "code",
   "execution_count": 7,
   "metadata": {},
   "outputs": [
    {
     "name": "stderr",
     "output_type": "stream",
     "text": [
      "d:\\progrom\\python\\python\\python3\\lib\\site-packages\\bs4\\__init__.py:181: UserWarning: No parser was explicitly specified, so I'm using the best available HTML parser for this system (\"lxml\"). This usually isn't a problem, but if you run this code on another system, or in a different virtual environment, it may use a different parser and behave differently.\n",
      "\n",
      "The code that caused this warning is on line 193 of the file d:\\progrom\\python\\python\\python3\\lib\\runpy.py. To get rid of this warning, change code that looks like this:\n",
      "\n",
      " BeautifulSoup(YOUR_MARKUP})\n",
      "\n",
      "to this:\n",
      "\n",
      " BeautifulSoup(YOUR_MARKUP, \"lxml\")\n",
      "\n",
      "  markup_type=markup_type))\n"
     ]
    }
   ],
   "source": [
    "# 因此数据预处理比较简单，只去除了各种标点符号，HTML标签，小写化等。\n",
    "def cleanReview(subject):\n",
    "    beau = BeautifulSoup(subject)\n",
    "    newSubject = beau.get_text()\n",
    "#     newSubject = newSubject.replace(\"\\\\\", \"\").replace(\"\\'\", \"\").replace('/', '').replace('\"', '').replace(',', '').replace('.', '').replace('?', '').replace('(', '').replace(')', '')\n",
    "    newSubject = newSubject.strip().split(\" \")\n",
    "    newSubject = [word.lower() for word in newSubject]\n",
    "    newSubject = \" \".join(newSubject)\n",
    "    \n",
    "    return newSubject\n",
    "    \n",
    "# unlabel[\"review_cut_word\"] = unlabel[\"review_cut_word\"].apply(cleanReview)\n",
    "label[\"review_cut_word\"] = label[\"review_cut_word\"].apply(cleanReview)"
   ]
  },
  {
   "cell_type": "code",
   "execution_count": 8,
   "metadata": {},
   "outputs": [
    {
     "data": {
      "text/html": [
       "<div>\n",
       "<style scoped>\n",
       "    .dataframe tbody tr th:only-of-type {\n",
       "        vertical-align: middle;\n",
       "    }\n",
       "\n",
       "    .dataframe tbody tr th {\n",
       "        vertical-align: top;\n",
       "    }\n",
       "\n",
       "    .dataframe thead th {\n",
       "        text-align: right;\n",
       "    }\n",
       "</style>\n",
       "<table border=\"1\" class=\"dataframe\">\n",
       "  <thead>\n",
       "    <tr style=\"text-align: right;\">\n",
       "      <th></th>\n",
       "      <th>label</th>\n",
       "      <th>review</th>\n",
       "      <th>review_cut_word</th>\n",
       "    </tr>\n",
       "  </thead>\n",
       "  <tbody>\n",
       "    <tr>\n",
       "      <th>0</th>\n",
       "      <td>1</td>\n",
       "      <td>商务大床房，房间很大，床有2M宽，整体感觉经济实惠不错!</td>\n",
       "      <td>商务 大床 房 ， 房间 很大 ， 床有 2m 宽 ， 整体 感觉 经济 实惠 不错 !</td>\n",
       "    </tr>\n",
       "    <tr>\n",
       "      <th>1</th>\n",
       "      <td>1</td>\n",
       "      <td>早餐太差，无论去多少人，那边也不加食品的。酒店应该重视一下这个问题了。房间本身很好。</td>\n",
       "      <td>早餐 太 差 ， 无论 去 多少 人 ， 那边 也 不加 食品 的 。 酒店 应该 重视 一...</td>\n",
       "    </tr>\n",
       "    <tr>\n",
       "      <th>2</th>\n",
       "      <td>1</td>\n",
       "      <td>宾馆在小街道上，不大好找，但还好北京热心同胞很多~宾馆设施跟介绍的差不多，房间很小，确实挺小...</td>\n",
       "      <td>宾馆 在 小 街道 上 ， 不大好 找 ， 但 还好 北京 热心 同胞 很多 ~ 宾馆 设施...</td>\n",
       "    </tr>\n",
       "    <tr>\n",
       "      <th>3</th>\n",
       "      <td>1</td>\n",
       "      <td>总的来说，这样的酒店配这样的价格还算可以，希望他赶快装修，给我的客人留些好的印象</td>\n",
       "      <td>总的来说 ， 这样 的 酒店 配 这样 的 价格 还 算 可以 ， 希望 他 赶快 装修 ，...</td>\n",
       "    </tr>\n",
       "    <tr>\n",
       "      <th>4</th>\n",
       "      <td>1</td>\n",
       "      <td>价格比比较不错的酒店。这次免费升级了，感谢前台服务员。房子还好，地毯是新的，比上次的好些。早...</td>\n",
       "      <td>价格比 比较 不错 的 酒店 。 这次 免费 升级 了 ， 感谢 前台 服务员 。 房子 还...</td>\n",
       "    </tr>\n",
       "  </tbody>\n",
       "</table>\n",
       "</div>"
      ],
      "text/plain": [
       "  label                                             review  \\\n",
       "0     1                       商务大床房，房间很大，床有2M宽，整体感觉经济实惠不错!   \n",
       "1     1         早餐太差，无论去多少人，那边也不加食品的。酒店应该重视一下这个问题了。房间本身很好。   \n",
       "2     1  宾馆在小街道上，不大好找，但还好北京热心同胞很多~宾馆设施跟介绍的差不多，房间很小，确实挺小...   \n",
       "3     1           总的来说，这样的酒店配这样的价格还算可以，希望他赶快装修，给我的客人留些好的印象   \n",
       "4     1  价格比比较不错的酒店。这次免费升级了，感谢前台服务员。房子还好，地毯是新的，比上次的好些。早...   \n",
       "\n",
       "                                     review_cut_word  \n",
       "0       商务 大床 房 ， 房间 很大 ， 床有 2m 宽 ， 整体 感觉 经济 实惠 不错 !  \n",
       "1  早餐 太 差 ， 无论 去 多少 人 ， 那边 也 不加 食品 的 。 酒店 应该 重视 一...  \n",
       "2  宾馆 在 小 街道 上 ， 不大好 找 ， 但 还好 北京 热心 同胞 很多 ~ 宾馆 设施...  \n",
       "3  总的来说 ， 这样 的 酒店 配 这样 的 价格 还 算 可以 ， 希望 他 赶快 装修 ，...  \n",
       "4  价格比 比较 不错 的 酒店 。 这次 免费 升级 了 ， 感谢 前台 服务员 。 房子 还...  "
      ]
     },
     "execution_count": 8,
     "metadata": {},
     "output_type": "execute_result"
    }
   ],
   "source": [
    "label.head(5)"
   ]
  },
  {
   "cell_type": "code",
   "execution_count": 9,
   "metadata": {},
   "outputs": [],
   "source": [
    "# 将有标签的数据和无标签的数据合并\n",
    "newDf = pd.concat([label[\"review_cut_word\"]], axis=0) "
   ]
  },
  {
   "cell_type": "markdown",
   "metadata": {},
   "source": [
    "## 数据存储模块"
   ]
  },
  {
   "cell_type": "code",
   "execution_count": 10,
   "metadata": {},
   "outputs": [],
   "source": [
    "# 保存成txt文件\n",
    "newDf.to_csv(\"../data/ChnSentiCorp_cn_data/wordEmbdiing.txt\", index=False,encoding='utf-8')"
   ]
  },
  {
   "cell_type": "code",
   "execution_count": 11,
   "metadata": {},
   "outputs": [
    {
     "name": "stdout",
     "output_type": "stream",
     "text": [
      "label.head(5):   label                                             review  \\\n",
      "0      0                       商务大床房，房间很大，床有2M宽，整体感觉经济实惠不错!   \n",
      "1      0         早餐太差，无论去多少人，那边也不加食品的。酒店应该重视一下这个问题了。房间本身很好。   \n",
      "2      0  宾馆在小街道上，不大好找，但还好北京热心同胞很多~宾馆设施跟介绍的差不多，房间很小，确实挺小...   \n",
      "3      0           总的来说，这样的酒店配这样的价格还算可以，希望他赶快装修，给我的客人留些好的印象   \n",
      "4      0  价格比比较不错的酒店。这次免费升级了，感谢前台服务员。房子还好，地毯是新的，比上次的好些。早...   \n",
      "\n",
      "                                     review_cut_word  \n",
      "0       商务 大床 房 ， 房间 很大 ， 床有 2m 宽 ， 整体 感觉 经济 实惠 不错 !  \n",
      "1  早餐 太 差 ， 无论 去 多少 人 ， 那边 也 不加 食品 的 。 酒店 应该 重视 一...  \n",
      "2  宾馆 在 小 街道 上 ， 不大好 找 ， 但 还好 北京 热心 同胞 很多 ~ 宾馆 设施...  \n",
      "3  总的来说 ， 这样 的 酒店 配 这样 的 价格 还 算 可以 ， 希望 他 赶快 装修 ，...  \n",
      "4  价格比 比较 不错 的 酒店 。 这次 免费 升级 了 ， 感谢 前台 服务员 。 房子 还...  \n",
      "label_lists:['1', '0']\n"
     ]
    }
   ],
   "source": [
    "label_lists =[]\n",
    "def label_list(subject):\n",
    "    if subject not in label_lists:\n",
    "        label_lists.append(subject)\n",
    "    \n",
    "def label_to_class(subject):\n",
    "    return int(label_lists.index(subject))\n",
    "\n",
    "label[\"label\"].apply(label_list)\n",
    "label[\"label\"] = label[\"label\"].apply(label_to_class)\n",
    "print(\"label.head(5):{0}\".format(label.head(5)))\n",
    "print(\"label_lists:{0}\".format(label_lists))\n",
    "\n",
    "# unlabel[\"class\"].apply(label_list)\n",
    "# unlabel[\"class\"] = unlabel[\"class\"].apply(label_to_class)\n",
    "# unlabel.head(5)\n"
   ]
  },
  {
   "cell_type": "code",
   "execution_count": 12,
   "metadata": {},
   "outputs": [],
   "source": [
    "newLabel1 = label[[\"label\",\"review_cut_word\"]]\n",
    "newLabel1.to_csv(\"../data/ChnSentiCorp_cn_data/labeledCharTrain.csv\",encoding='utf-8', header=0, index=0)"
   ]
  },
  {
   "cell_type": "code",
   "execution_count": 13,
   "metadata": {},
   "outputs": [],
   "source": [
    "newLabel2 = label[[\"review_cut_word\",\"label\"]]\n",
    "newLabel2.to_csv(\"../data/ChnSentiCorp_cn_data/labeledCharTrain_bert.csv\",encoding='utf-8', header=0, index=0)\n",
    "# newunLabel = unlabel[[\"class\", \"review_cut_word\"]]\n",
    "# newunLabel.to_csv(\"../data/ChnSentiCorp_cn_data/cnews_data/labeledCharTest.csv\",encoding='utf-8')"
   ]
  },
  {
   "cell_type": "code",
   "execution_count": null,
   "metadata": {},
   "outputs": [],
   "source": []
  }
 ],
 "metadata": {
  "kernelspec": {
   "display_name": "Python 3",
   "language": "python",
   "name": "python3"
  },
  "language_info": {
   "codemirror_mode": {
    "name": "ipython",
    "version": 3
   },
   "file_extension": ".py",
   "mimetype": "text/x-python",
   "name": "python",
   "nbconvert_exporter": "python",
   "pygments_lexer": "ipython3",
   "version": "3.6.3"
  }
 },
 "nbformat": 4,
 "nbformat_minor": 2
}
